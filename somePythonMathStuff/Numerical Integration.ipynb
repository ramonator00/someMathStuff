{
 "cells": [
  {
   "cell_type": "markdown",
   "metadata": {},
   "source": [
    "Ein bestimmtes Integral ist ein Integral (oder auch Riemann Integral), bei dem die Grenzen $[a, b]$ gegeben sind:"
   ]
  },
  {
   "cell_type": "markdown",
   "metadata": {},
   "source": [
    "\\begin{align}\n",
    "\\displaystyle \\int_a^b f(x)\\,dy\n",
    "\\end{align}"
   ]
  },
  {
   "cell_type": "markdown",
   "metadata": {},
   "source": [
    "Die Berechnung des bestimmten Integrals ist wie folgt definiert:"
   ]
  },
  {
   "cell_type": "markdown",
   "metadata": {},
   "source": [
    "\\begin{align}\n",
    "\\displaystyle \\int_a^bf\\left(x\\right)\\mathrm{d}x=\\left[F\\left(x\\right)\\right]_a^b=F\\left(b\\right)-F\\left(a\\right)\n",
    "\\end{align}"
   ]
  },
  {
   "cell_type": "markdown",
   "metadata": {},
   "source": [
    "\\begin{align}\n",
    "\\displaystyle \\int_a^bf\\left(x\\right)\\mathrm{d}x=\\lim_{\\Delta\\to\\infty} = \\frac{b}{n} \\sum_{k = \\mathbb{R}}^{n}f(\\frac{k * b}{n})\n",
    "\\end{align}"
   ]
  },
  {
   "cell_type": "markdown",
   "metadata": {},
   "source": [
    "Wobei ${F(b) – F(a)}$ die Stammfunktion von ${f(x)}$ ist und die untere Grenze ${a}$ sowie die obere Grenze ${b}$ in die Stammfunktion eingesetzt wird."
   ]
  },
  {
   "cell_type": "markdown",
   "metadata": {},
   "source": [
    "# Sekantentrapezregel:"
   ]
  },
  {
   "cell_type": "markdown",
   "metadata": {},
   "source": [
    "Die Sekantentrapezregel wird wie folgt definiert:"
   ]
  },
  {
   "cell_type": "markdown",
   "metadata": {},
   "source": [
    "\\begin{align}\n",
    "\\displaystyle \\int_a^bf\\left(x\\right)\\mathrm{d}x\\approx\\frac{(b-a)}{N}\\Biggl(f(x0)+f(x_N)+2\\sum_{j=1}^{N-1}f(x_j)\\Biggr)\n",
    "\\end{align}"
   ]
  },
  {
   "cell_type": "code",
   "execution_count": 1,
   "metadata": {},
   "outputs": [
    {
     "data": {
      "text/latex": [
       "$\\displaystyle {\\int_0^\\pi \\sin(x)\\,dx}$"
      ],
      "text/plain": [
       "<IPython.core.display.Math object>"
      ]
     },
     "metadata": {},
     "output_type": "display_data"
    },
    {
     "name": "stdout",
     "output_type": "stream",
     "text": [
      "Die Berechnung mit der Sekantentrapezregel:  1.9998355038874436\n"
     ]
    },
    {
     "data": {
      "text/latex": [
       "$\\displaystyle \\int_{-1}^1 \\sqrt{1-x^2}\\, dx$"
      ],
      "text/plain": [
       "<IPython.core.display.Math object>"
      ]
     },
     "metadata": {},
     "output_type": "display_data"
    },
    {
     "name": "stdout",
     "output_type": "stream",
     "text": [
      "Die Berechnung mit der Sekantentrapezregel:  1.4587766893879954\n"
     ]
    },
    {
     "data": {
      "text/latex": [
       "$\\displaystyle \\int_{0}^1 x^2\\,dx$"
      ],
      "text/plain": [
       "<IPython.core.display.Math object>"
      ]
     },
     "metadata": {},
     "output_type": "display_data"
    },
    {
     "name": "stdout",
     "output_type": "stream",
     "text": [
      "Die Berechnung mit der Sekantentrapezregel:  0.33335000000000004\n"
     ]
    }
   ],
   "source": [
    "from math import *\n",
    "import numpy as np\n",
    "import matplotlib.pyplot as plt\n",
    "from IPython.display import display, Math\n",
    "%matplotlib inline\n",
    "\n",
    "# Die Integrale welche zu Berechnen sind als globale Variable\n",
    "\n",
    "f1 = lambda x: np.sin(x)\n",
    "f2 = lambda x: np.sqrt(1 - x**2)\n",
    "f3 = lambda x: x**2\n",
    "\n",
    "\n",
    "def Sekantentrapezregel(f, a, b, n):\n",
    "    \"\"\"\n",
    "    Diese Funktion berechnet die bestimmten Integrale\n",
    "    mit der Trapezregel als Näherungsverfahren.\n",
    "    :param f steht für Funktion\n",
    "    :param a steht für untere Grenze\n",
    "    :param b steht für obere Grenze\n",
    "    :param n steht für die Anzahl Intervalle\n",
    "    \"\"\"\n",
    "    h = (b - a) / n # Breite eines Streifens\n",
    "    s = 0.0\n",
    "    s += f(a)/2\n",
    "    for i in range(0, n):\n",
    "        s += f(a + i*h)\n",
    "    s += f(b)/2\n",
    "    return s * h\n",
    "\n",
    "def printFunctions():\n",
    "    \"\"\"\n",
    "    Die Funktion führt die Berechnungen durch\n",
    "    und gibt diese zurück.\n",
    "    \"\"\"\n",
    "    \n",
    "    display(Math(r'{\\int_0^\\pi \\sin(x)\\,dx}'))\n",
    "    print(\"Die Berechnung mit der Sekantentrapezregel: \",\n",
    "          (Sekantentrapezregel(f1, 0.0, pi, 100)))\n",
    "    \n",
    "    display(Math(r'\\int_{-1}^1 \\sqrt{1-x^2}\\, dx'))\n",
    "    print(\"Die Berechnung mit der Sekantentrapezregel: \", \n",
    "          (Sekantentrapezregel(f2, -1.0, 1.0, 6)))\n",
    "    \n",
    "    display(Math(r'\\int_{0}^1 x^2\\,dx'))\n",
    "    print(\"Die Berechnung mit der Sekantentrapezregel: \",\n",
    "          (Sekantentrapezregel(f3, 0.0, 1.0, 100)))\n",
    "    \n",
    "\n",
    "printFunctions()"
   ]
  },
  {
   "cell_type": "markdown",
   "metadata": {},
   "source": [
    "# Trapezoidal rule"
   ]
  },
  {
   "cell_type": "markdown",
   "metadata": {},
   "source": [
    "\\begin{align}\n",
    "{\\displaystyle J(f)=\\int _{a}^{b}f(x)\\,\\mathrm {d} x=M(f)+E(f)}\n",
    "\\end{align}"
   ]
  },
  {
   "cell_type": "markdown",
   "metadata": {},
   "source": [
    "\\begin{align}\n",
    "{\\displaystyle M(f)=(b-a)\\ f\\left({\\frac {a+b}{2}}\\right)}\n",
    "\\end{align}"
   ]
  },
  {
   "cell_type": "code",
   "execution_count": 2,
   "metadata": {},
   "outputs": [
    {
     "data": {
      "text/latex": [
       "$\\displaystyle {\\int_0^\\pi \\sin(x)\\,dx}$"
      ],
      "text/plain": [
       "<IPython.core.display.Math object>"
      ]
     },
     "metadata": {},
     "output_type": "display_data"
    },
    {
     "name": "stdout",
     "output_type": "stream",
     "text": [
      "Die Berechnung mit der Tangententrapezregel:  1.999588789144242\n"
     ]
    },
    {
     "data": {
      "text/latex": [
       "$\\displaystyle \\int_{-1}^1 \\sqrt{1-x^2}\\, dx$"
      ],
      "text/plain": [
       "<IPython.core.display.Math object>"
      ]
     },
     "metadata": {},
     "output_type": "display_data"
    },
    {
     "name": "stdout",
     "output_type": "stream",
     "text": [
      "Die Berechnung mit der Tangententrapezregel:  1.568461429033862\n"
     ]
    },
    {
     "data": {
      "text/latex": [
       "$\\displaystyle \\int_{0}^1 x^2\\,dx$"
      ],
      "text/plain": [
       "<IPython.core.display.Math object>"
      ]
     },
     "metadata": {},
     "output_type": "display_data"
    },
    {
     "name": "stdout",
     "output_type": "stream",
     "text": [
      "Die Berechnung mit der Tangententrapezregel:  0.3234247499999999\n"
     ]
    }
   ],
   "source": [
    "from math import *\n",
    "import numpy as np\n",
    "from numpy import linspace, sum\n",
    "import matplotlib.pyplot as plt\n",
    "from IPython.display import display, Math\n",
    "%matplotlib inline\n",
    "\n",
    "f1 = lambda x: np.sin(x)\n",
    "f2 = lambda x: np.sqrt(1 - x**2)\n",
    "f3 = lambda x: x**2\n",
    "\n",
    "def Tangententrapezregel(f, a, b, n):\n",
    "    \"\"\"\n",
    "    Diese Funktion berechnet die bestimmten Integrale\n",
    "    mit der Tangententrapezregel als Näherungsverfahren.\n",
    "    :param f steht für Funktion\n",
    "    :param a steht für untere Grenze\n",
    "    :param b steht für obere Grenze\n",
    "    :param n steht für die Anzahl Intervalle\n",
    "    \"\"\"\n",
    "    h = (b - a) / n # Breite eines Streifens\n",
    "    s = 0.0\n",
    "    for i in range(1, n):\n",
    "        s += f(a+(i-0.5)*h)\n",
    "    return s*h\n",
    "\n",
    "def printFunctions():\n",
    "    \"\"\"\n",
    "    Die Funktion führt die Berechnungen durch\n",
    "    und gibt diese zurück.\n",
    "    \"\"\"\n",
    "    \n",
    "    display(Math(r'{\\int_0^\\pi \\sin(x)\\,dx}'))\n",
    "    print(\"Die Berechnung mit der Tangententrapezregel: \",\n",
    "          (Tangententrapezregel(f1, 0.0, pi, 100)))\n",
    "    \n",
    "    display(Math(r'\\int_{-1}^1 \\sqrt{1-x^2}\\, dx'))\n",
    "    print(\"Die Berechnung mit der Tangententrapezregel: \", \n",
    "          (Tangententrapezregel(f2, -1.0, 1.0, 100)))\n",
    "    \n",
    "    display(Math(r'\\int_{0}^1 x^2\\,dx'))\n",
    "    print(\"Die Berechnung mit der Tangententrapezregel: \",\n",
    "          (Tangententrapezregel(f3, 0.0, 1.0, 100)))  \n",
    "\n",
    "printFunctions()"
   ]
  },
  {
   "cell_type": "markdown",
   "metadata": {},
   "source": [
    "# Simpson Regel:"
   ]
  },
  {
   "cell_type": "markdown",
   "metadata": {},
   "source": [
    "Die Simpsonsche Formel wird wie folgt definitert:"
   ]
  },
  {
   "cell_type": "markdown",
   "metadata": {},
   "source": [
    "\\begin{align}\n",
    "\\displaystyle \\int_a^bf\\left(x\\right)\\mathrm{d}x\\thickapprox(y_0 + 4y_1 + 2y_2 + 4y_3 + ... + 2y_{2n-1} + 4y_{2n-1} + y_{2n})\\frac{h}{3}\n",
    "\\end{align}"
   ]
  },
  {
   "cell_type": "markdown",
   "metadata": {},
   "source": [
    "\\begin{align}\n",
    "\\displaystyle \\Bigg((\\underbrace{y_0+y_{2n})}_{\\sum_0} + 4(\\underbrace{y_1+y_3+...+y_{2n-1})}_{\\sum_1} + 2(\\underbrace{y_2+y_4+...+y_{2n-2})}_{\\sum_2}\\Bigg)\n",
    "\\end{align}"
   ]
  },
  {
   "cell_type": "markdown",
   "metadata": {},
   "source": [
    "\\begin{align}\n",
    "\\displaystyle \\Bigg(\\sum_0 + \\,4 * \\sum_1 + \\,2 * \\sum_2 \\Bigg)\n",
    "\\end{align}"
   ]
  },
  {
   "cell_type": "markdown",
   "metadata": {},
   "source": [
    "${h = (b - a)\\,/\\, 2n}$"
   ]
  },
  {
   "cell_type": "code",
   "execution_count": 3,
   "metadata": {},
   "outputs": [
    {
     "data": {
      "text/latex": [
       "$\\displaystyle {\\int_0^\\pi \\sin(x)\\,dx}$"
      ],
      "text/plain": [
       "<IPython.core.display.Math object>"
      ]
     },
     "metadata": {},
     "output_type": "display_data"
    },
    {
     "name": "stdout",
     "output_type": "stream",
     "text": [
      "Die Berechnung mit der Simpson Regel:  2.0000000108245044\n"
     ]
    },
    {
     "data": {
      "text/latex": [
       "$\\displaystyle \\int_{-1}^1 \\sqrt{1-x^2}\\, dx$"
      ],
      "text/plain": [
       "<IPython.core.display.Math object>"
      ]
     },
     "metadata": {},
     "output_type": "display_data"
    },
    {
     "name": "stdout",
     "output_type": "stream",
     "text": [
      "Die Berechnung mit der Simpson Regel:  1.5701462889151672\n"
     ]
    },
    {
     "data": {
      "text/latex": [
       "$\\displaystyle \\int_{0}^1 x^2\\,dx$"
      ],
      "text/plain": [
       "<IPython.core.display.Math object>"
      ]
     },
     "metadata": {},
     "output_type": "display_data"
    },
    {
     "name": "stdout",
     "output_type": "stream",
     "text": [
      "Die Berechnung mit der Simpson Regel:  -0.4999999966666667\n"
     ]
    }
   ],
   "source": [
    "import numpy as np\n",
    "from scipy.integrate import simps, romb\n",
    "from math import *\n",
    "\n",
    "# Die Integrale welche zu Berechnen sind als globale Variable\n",
    "\n",
    "f1 = lambda x: np.sin(x)\n",
    "f2 = lambda x: np.sqrt(1 - x**2)\n",
    "f3 = lambda x: x**5 + x**2 - 1\n",
    "\n",
    "def Simpsonregel(f, a, b, n):\n",
    "    \"\"\"\n",
    "    Diese Funktion berechnet die bestimmten Integrale\n",
    "    mit der Tangententrapezregel als Näherungsverfahren.\n",
    "    :param f steht für Funktion\n",
    "    :param a steht für untere Grenze\n",
    "    :param b steht für obere Grenze\n",
    "    :param n steht für die Anzahl Intervalle\n",
    "    \"\"\"\n",
    "    h = (b-a)/n  # Breite eines Streifens\n",
    "    x = np.linspace(a, b, n + 1)\n",
    "    y = f(x)\n",
    "    s = h/3 * np.sum(y[0:-1:2] + 4*y[1::2] + y[2::2])\n",
    "    return s\n",
    "\n",
    "def printFunctions():\n",
    "    \"\"\"\n",
    "    Die Funktion führt die Berechnungen durch\n",
    "    und gibt diese zurück.\n",
    "    \"\"\"\n",
    "    display(Math(r'{\\int_0^\\pi \\sin(x)\\,dx}'))\n",
    "    print(\"Die Berechnung mit der Simpson Regel: \",\n",
    "          (Simpsonregel(f1, 0.0, pi, 100)))\n",
    "    \n",
    "    display(Math(r'\\int_{-1}^1 \\sqrt{1-x^2}\\, dx'))\n",
    "    print(\"Die Berechnung mit der Simpson Regel: \", \n",
    "          (Simpsonregel(f2, -1.0, 1.0, 100)))\n",
    "    \n",
    "    display(Math(r'\\int_{0}^1 x^2\\,dx'))\n",
    "    print(\"Die Berechnung mit der Simpson Regel: \",\n",
    "          (Simpsonregel(f3, 0.0, 1.0, 100)))\n",
    "\n",
    "printFunctions()"
   ]
  },
  {
   "cell_type": "markdown",
   "metadata": {},
   "source": [
    "# Grafische Darstellung:"
   ]
  },
  {
   "cell_type": "code",
   "execution_count": 4,
   "metadata": {},
   "outputs": [
    {
     "data": {
      "image/png": "[encoded data removed]",
      "text/plain": [
       "<Figure size 432x288 with 1 Axes>"
      ]
     },
     "metadata": {
      "needs_background": "light"
     },
     "output_type": "display_data"
    },
    {
     "data": {
      "image/png": "[encoded data removed]",
      "text/plain": [
       "<Figure size 432x288 with 1 Axes>"
      ]
     },
     "metadata": {
      "needs_background": "light"
     },
     "output_type": "display_data"
    },
    {
     "data": {
      "image/png": "[encoded data removed]",
      "text/plain": [
       "<Figure size 432x288 with 1 Axes>"
      ]
     },
     "metadata": {
      "needs_background": "light"
     },
     "output_type": "display_data"
    }
   ],
   "source": [
    "def plotFunctions(a, b, n, f):\n",
    "    \"\"\"\n",
    "    Diese Funktion zeigt den Graphen an.\n",
    "    :param f steht für Funktion\n",
    "    :param a steht für untere Grenze\n",
    "    :param b steht für obere Grenze\n",
    "    :param n steht für die Anzahl Intervalle \n",
    "    \"\"\"\n",
    "    fig, ax = plt.subplots()\n",
    "    x = np.linspace(a,b,n+1) # Intervall\n",
    "    y = f(x)\n",
    "    \n",
    "    X = np.linspace(a, b)\n",
    "    Y = f(X)\n",
    "    plt.plot(X, Y, color='red') # Plot der Funktion f\n",
    "    \n",
    "    fig.text(0.9, 0.05, '$x$') # Beschriftung der x-Achse\n",
    "    fig.text(0.1, 0.9, '$y$') # Beschriftung der y-Achse\n",
    "    \n",
    "    for i in range(n): # Für jedes i im Intervall n wird ein Trapez gezeichnet\n",
    "        xs = [x[i],x[i],x[i+1],x[i+1]]\n",
    "        ys = [0,f(x[i]),f(x[i+1]),0]\n",
    "        plt.fill(xs,ys,'b',edgecolor='b',alpha=0.1) # Füllt die Trapeze blau\n",
    "\n",
    "    plt.title('Berechnung des Integrals')\n",
    "    plt.show()\n",
    "\n",
    "plotFunctions(0, pi, 4, f1)\n",
    "plotFunctions(-1, 1, 4, f2)\n",
    "plotFunctions(0, 1, 4, f3)"
   ]
  },
  {
   "cell_type": "markdown",
   "metadata": {},
   "source": [
    "# Berechnung mit Scipy:"
   ]
  },
  {
   "cell_type": "code",
   "execution_count": 5,
   "metadata": {},
   "outputs": [
    {
     "data": {
      "text/latex": [
       "$\\displaystyle {\\int_0^\\pi \\sin(x)\\,dx}$"
      ],
      "text/plain": [
       "<IPython.core.display.Math object>"
      ]
     },
     "metadata": {},
     "output_type": "display_data"
    },
    {
     "name": "stdout",
     "output_type": "stream",
     "text": [
      "Simpson Regel mit Scipy: \n",
      "2.000000010824504\n",
      "\n",
      "Trapezregel mit Scipy: \n",
      "1.9998355038874434\n",
      "\n"
     ]
    },
    {
     "data": {
      "text/latex": [
       "$\\displaystyle \\int_{-1}^1 \\sqrt{1-x^2}\\, dx$"
      ],
      "text/plain": [
       "<IPython.core.display.Math object>"
      ]
     },
     "metadata": {},
     "output_type": "display_data"
    },
    {
     "name": "stdout",
     "output_type": "stream",
     "text": [
      "Simpson Regel mit Scipy: \n",
      "1.5701462889151672\n",
      "\n",
      "Trapezregel mit Scipy: \n",
      "1.5691342555492496\n",
      "\n"
     ]
    },
    {
     "data": {
      "text/latex": [
       "$\\displaystyle \\int_{0}^1 x^2\\,dx$"
      ],
      "text/plain": [
       "<IPython.core.display.Math object>"
      ]
     },
     "metadata": {},
     "output_type": "display_data"
    },
    {
     "name": "stdout",
     "output_type": "stream",
     "text": [
      "Simpson Regel mit Scipy: \n",
      "-0.4999999966666667\n",
      "\n",
      "Trapezregel mit Scipy: \n",
      "-0.4999416675\n"
     ]
    }
   ],
   "source": [
    "from scipy.integrate import simps\n",
    "import numpy as np\n",
    "\n",
    "def scipyVersion(a, b, n, f):\n",
    "    \"\"\"\n",
    "    Diese Funktion berechnet die Trapez- und Simpson Regel\n",
    "    mit Scipy und Numpy\n",
    "    :param f steht für Funktion\n",
    "    :param a steht für untere Grenze\n",
    "    :param b steht für obere Grenze\n",
    "    :param n steht für die Anzahl Intervalle\n",
    "    \"\"\"\n",
    "    x = np.linspace(a, b, n+1)  # Definiert das Intervall\n",
    "    y = f(x)                    # Funktion enthält das Intervall als Parameter\n",
    "    t = np.trapz(y, x)          # Starte die numpy Funktion der Trapezregel\n",
    "    s = simps(y, x)             # Starte die scipy Funktion der Simpson Regel \n",
    "\n",
    "    print(\"Simpson Regel mit Scipy: \")\n",
    "    print(s)\n",
    "    print('')\n",
    "    print(\"Trapezregel mit Scipy: \")\n",
    "    print(t)\n",
    "\n",
    "display(Math(r'{\\int_0^\\pi \\sin(x)\\,dx}'))\n",
    "scipyVersion(0, pi, 100, f1)\n",
    "print('')\n",
    "display(Math(r'\\int_{-1}^1 \\sqrt{1-x^2}\\, dx'))\n",
    "scipyVersion(-1, 1, 100, f2)\n",
    "print('')\n",
    "display(Math(r'\\int_{0}^1 x^2\\,dx'))\n",
    "scipyVersion(0, 1, 100, f3)"
   ]
  },
  {
   "cell_type": "markdown",
   "metadata": {},
   "source": [
    "# Vergleich"
   ]
  },
  {
   "cell_type": "code",
   "execution_count": 6,
   "metadata": {},
   "outputs": [
    {
     "data": {
      "text/latex": [
       "$\\displaystyle {\\int_0^\\pi \\sin(x)\\,dx}$"
      ],
      "text/plain": [
       "<IPython.core.display.Math object>"
      ]
     },
     "metadata": {},
     "output_type": "display_data"
    },
    {
     "name": "stdout",
     "output_type": "stream",
     "text": [
      "Berechnung mit der Sekantentrapezregel:\n",
      "--------------------------------------\n",
      "1.9998355038874436  n ist 100\n",
      "1.9999983550656624  n ist 1000\n",
      "1.9999999835506606  n ist 10000\n",
      "1.9999999998354792  n ist 100000\n",
      "\n",
      "Berechnung mit der Tangententrapezregel:\n",
      "--------------------------------------\n",
      "1.999588789144242  n ist 100\n",
      "1.999995887667097  n ist 1000\n",
      "1.9999999588766542  n ist 10000\n",
      "1.999999999588777  n ist 100000\n",
      "\n",
      "Berechnung mit der Simpson Regel:\n",
      "--------------------------------------\n",
      "2.0000000108245044 n ist 100\n",
      "2.0000000000010827 n ist 1000\n",
      "2.0 n ist 10000\n",
      "1.9999999999999996 n ist 100000\n"
     ]
    },
    {
     "data": {
      "text/latex": [
       "$\\displaystyle \\int_{-1}^1 \\sqrt{1-x^2}\\, dx$"
      ],
      "text/plain": [
       "<IPython.core.display.Math object>"
      ]
     },
     "metadata": {},
     "output_type": "display_data"
    },
    {
     "name": "stdout",
     "output_type": "stream",
     "text": [
      "Berechnung mit der Sekantentrapezregel:\n",
      "--------------------------------------\n",
      "1.5691342555492498  n ist 100\n",
      "1.570743738501071  n ist 1000\n",
      "1.5707946637152863  n ist 10000\n",
      "1.5707962742034143  n ist 100000\n",
      "\n",
      "Berechnung mit der Tangententrapezregel:\n",
      "--------------------------------------\n",
      "1.568461429033862  n ist 100\n",
      "1.5707223080543322  n ist 1000\n",
      "1.5707939855396156  n ist 10000\n",
      "1.5707962527560568  n ist 100000\n",
      "\n",
      "Berechnung mit der Simpson Regel:\n",
      "--------------------------------------\n",
      "1.5701462889151672 n ist 100\n",
      "1.5707757867501702 n ist 1000\n",
      "1.5707956773123006 n ist 10000\n",
      "1.570796306256614 n ist 100000\n"
     ]
    },
    {
     "data": {
      "text/latex": [
       "$\\displaystyle \\int_{0}^1 x^2\\,dx$"
      ],
      "text/plain": [
       "<IPython.core.display.Math object>"
      ]
     },
     "metadata": {},
     "output_type": "display_data"
    },
    {
     "name": "stdout",
     "output_type": "stream",
     "text": [
      "Berechnung mit der Sekantentrapezregel:\n",
      "--------------------------------------\n",
      "-0.5099416674999999  n ist 100\n",
      "-0.5009994166667491  n ist 1000\n",
      "-0.5000999941666668  n ist 10000\n",
      "-0.5000099999416718  n ist 100000\n",
      "\n",
      "Berechnung mit der Tangententrapezregel:\n",
      "--------------------------------------\n",
      "-0.5096819034687186  n ist 100\n",
      "-0.5009967944153442  n ist 1000\n",
      "-0.5000999679194184  n ist 10000\n",
      "-0.5000099996791643  n ist 100000\n",
      "\n",
      "Berechnung mit der Simpson Regel:\n",
      "--------------------------------------\n",
      "-0.4999999966666667 n ist 100\n",
      "-0.49999999999966666 n ist 1000\n",
      "-0.4999999999999999 n ist 10000\n",
      "-0.49999999999999994 n ist 100000\n"
     ]
    }
   ],
   "source": [
    "def vergleicheSekant(f, a, b):\n",
    "    \"\"\"\n",
    "    Diese Funktion berechnet mehrere Intervalle\n",
    "    der Sekantentrapezregel\n",
    "    :param f steht für Funktion\n",
    "    :param a steht für untere Grenze\n",
    "    :param b steht für obere Grenze\n",
    "    \"\"\"\n",
    "    for i in  [100,1000,10000,100000]:\n",
    "        print((Sekantentrapezregel(f, a, b, i)), \" n ist\", i)\n",
    "        \n",
    "def vergleicheTangent(f, a, b):\n",
    "    \"\"\"\n",
    "    Diese Funktion berechnet mehrere Intervalle\n",
    "    der Tangententrapezregel\n",
    "    :param f steht für Funktion\n",
    "    :param a steht für untere Grenze\n",
    "    :param b steht für obere Grenze\n",
    "    \"\"\"\n",
    "    for i in  [100,1000,10000,100000]:\n",
    "        print((Tangententrapezregel(f, a, b, i)), \" n ist\", i)\n",
    "        \n",
    "def vergleicheSimps(f, a, b):\n",
    "    \"\"\"\n",
    "    Diese Funktion berechnet mehrere Intervalle\n",
    "    der Simpson Regel\n",
    "    :param f steht für Funktion\n",
    "    :param a steht für untere Grenze\n",
    "    :param b steht für obere Grenze\n",
    "    \"\"\"\n",
    "    for i in  [100,1000,10000,100000]:\n",
    "        print((Simpsonregel(f, a, b, i)), \"n ist\", i)\n",
    "\n",
    "        \n",
    "if __name__ == '__main__':\n",
    "    display(Math(r'{\\int_0^\\pi \\sin(x)\\,dx}'))\n",
    "    print(\"Berechnung mit der Sekantentrapezregel:\")\n",
    "    print(\"--------------------------------------\")\n",
    "    vergleicheSekant(f1, 0.0, pi)\n",
    "    print('')\n",
    "    print(\"Berechnung mit der Tangententrapezregel:\")\n",
    "    print(\"--------------------------------------\")\n",
    "    vergleicheTangent(f1, 0.0, pi)\n",
    "    print('')\n",
    "    print(\"Berechnung mit der Simpson Regel:\")\n",
    "    print(\"--------------------------------------\")\n",
    "    vergleicheSimps(f1, 0.0, pi)\n",
    "    display(Math(r'\\int_{-1}^1 \\sqrt{1-x^2}\\, dx'))\n",
    "    print(\"Berechnung mit der Sekantentrapezregel:\")\n",
    "    print(\"--------------------------------------\")\n",
    "    vergleicheSekant(f2, -1, 1)\n",
    "    print('')\n",
    "    print(\"Berechnung mit der Tangententrapezregel:\")\n",
    "    print(\"--------------------------------------\")\n",
    "    vergleicheTangent(f2, -1, 1)\n",
    "    print('')\n",
    "    print(\"Berechnung mit der Simpson Regel:\")\n",
    "    print(\"--------------------------------------\")\n",
    "    vergleicheSimps(f2, -1, 1)\n",
    "    display(Math(r'\\int_{0}^1 x^2\\,dx'))\n",
    "    print(\"Berechnung mit der Sekantentrapezregel:\")\n",
    "    print(\"--------------------------------------\")\n",
    "    vergleicheSekant(f3, 0, 1)\n",
    "    print('')\n",
    "    print(\"Berechnung mit der Tangententrapezregel:\")\n",
    "    print(\"--------------------------------------\")\n",
    "    vergleicheTangent(f3, 0, 1)\n",
    "    print('')\n",
    "    print(\"Berechnung mit der Simpson Regel:\")\n",
    "    print(\"--------------------------------------\")\n",
    "    vergleicheSimps(f3, 0, 1)"
   ]
  },
  {
   "cell_type": "markdown",
   "metadata": {},
   "source": [
    "## Grenzwert ${n\\to\\infty}$:"
   ]
  },
  {
   "cell_type": "markdown",
   "metadata": {},
   "source": [
    "${\\lim_{n \\to \\infty}\\int_0^\\pi \\sin(x)\\, dx \\thickapprox 2}$"
   ]
  },
  {
   "cell_type": "markdown",
   "metadata": {},
   "source": [
    "${\\lim_{n \\to \\infty}\\int_{-1}^1 \\sqrt{1-x^2}\\, dx \\thickapprox 1.5708}$"
   ]
  },
  {
   "cell_type": "markdown",
   "metadata": {},
   "source": [
    "${\\lim_{n \\to \\infty}\\int_{0}^1 x^2\\,dx \\thickapprox \\frac{1}{3}}$"
   ]
  },
  {
   "cell_type": "markdown",
   "metadata": {},
   "source": [
    "## Beispiel"
   ]
  },
  {
   "cell_type": "markdown",
   "metadata": {},
   "source": [
    "${O_n = \\frac{1}{n}*f(1*\\frac{1}{n}) + \\frac{1}{n}*f(2*\\frac{1}{n}) + .... + \\frac{1}{n}*f(n * \\frac{1}{n})}$"
   ]
  },
  {
   "cell_type": "markdown",
   "metadata": {},
   "source": [
    "${O_n = \\frac{1}{n}(1*\\frac{1}{n})^2 + \\frac{1}{n}(2*\\frac{1}{n})^2 + .... + \\frac{1}{n}(n * \\frac{1}{n})^2}$"
   ]
  },
  {
   "cell_type": "markdown",
   "metadata": {},
   "source": [
    "${O_n = \\frac{1}{n}*1^2(\\frac{1}{n})^2+ \\frac{1}{n}*2^2(\\frac{1}{n})^2 + ... + \\frac{1}{n}*n^2(\\frac{1}{n})^2}$"
   ]
  },
  {
   "cell_type": "markdown",
   "metadata": {},
   "source": [
    "${O_n = \\frac{1}{n}(\\frac{1}{n})^2 * [1^2 \\,+\\, 2^2 \\,+ \\,3^2 \\,+\\, ... \\,+\\, n^2]}$"
   ]
  },
  {
   "cell_type": "markdown",
   "metadata": {},
   "source": [
    "${O_n = \\frac{1}{n}(\\frac{1}{n})^2 * \\frac{1}{6}n\\,(n+1) * (2n + 1)}$"
   ]
  },
  {
   "cell_type": "markdown",
   "metadata": {},
   "source": [
    "${O_n = \\frac{1}{n*n^2}*\\frac{1}{6}(n^2+n)\\,*\\,(2n+1) = \\frac{1}{6}(\\frac{n^2+n}{n^2})\\,*\\,(\\frac{2n+1}{n})}$"
   ]
  },
  {
   "cell_type": "markdown",
   "metadata": {},
   "source": [
    "${O_n = \\frac{1}{6}(1+\\frac{1}{n})\\,(2+\\frac{1}{n})}$"
   ]
  },
  {
   "cell_type": "markdown",
   "metadata": {},
   "source": [
    "${O_n = {\\lim_{n \\to \\infty} = \\frac{1}{3}}}$"
   ]
  }
 ],
 "metadata": {
  "celltoolbar": "Raw Cell Format",
  "kernelspec": {
   "display_name": "Python 3",
   "language": "python",
   "name": "python3"
  },
  "language_info": {
   "codemirror_mode": {
    "name": "ipython",
    "version": 3
   },
   "file_extension": ".py",
   "mimetype": "text/x-python",
   "name": "python",
   "nbconvert_exporter": "python",
   "pygments_lexer": "ipython3",
   "version": "3.7.6"
  }
 },
 "nbformat": 4,
 "nbformat_minor": 4
}
