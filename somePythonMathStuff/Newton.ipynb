{
 "cells": [
  {
   "cell_type": "markdown",
   "metadata": {},
   "source": [
    "# Newton"
   ]
  },
  {
   "cell_type": "markdown",
   "metadata": {},
   "source": [
    "\\begin{align}\n",
    "\\displaystyle x_n = x_{n-1} - \\frac{f(x_{n-1})}{f'(x_{n-1})}\n",
    "\\end{align}"
   ]
  },
  {
   "cell_type": "markdown",
   "metadata": {},
   "source": [
    "\\begin{align}\n",
    "\\displaystyle{f'(x_{n-1}) \\neq 0}\n",
    "\\end{align}"
   ]
  },
  {
   "cell_type": "code",
   "execution_count": 1,
   "metadata": {},
   "outputs": [
    {
     "name": "stdout",
     "output_type": "stream",
     "text": [
      "Die Funktion lautet:\n"
     ]
    },
    {
     "data": {
      "text/latex": [
       "$\\displaystyle {f_1(x) = x^2}$"
      ],
      "text/plain": [
       "<IPython.core.display.Math object>"
      ]
     },
     "metadata": {},
     "output_type": "display_data"
    },
    {
     "name": "stdout",
     "output_type": "stream",
     "text": [
      "\n",
      "Die Ableitung von f1(x):\n"
     ]
    },
    {
     "data": {
      "text/latex": [
       "$\\displaystyle 2 x$"
      ],
      "text/plain": [
       "2*x"
      ]
     },
     "execution_count": 1,
     "metadata": {},
     "output_type": "execute_result"
    }
   ],
   "source": [
    "from sympy import *\n",
    "import time\n",
    "from IPython.display import display, Math\n",
    "\n",
    "def ableitung(x, f):\n",
    "    \"\"\"\n",
    "    Diese Funktion berechnet die Ableitung einer Funktion\n",
    "    :param f: Die Funktion\n",
    "    :param x: Der gewünschte x-Wert\n",
    "    :return: Ableitung\n",
    "    \"\"\"\n",
    "    ableitung = f.diff(x)\n",
    "    return ableitung\n",
    "\n",
    "x = symbols('x')\n",
    "f1 = x**2\n",
    "\n",
    "print(\"Die Funktion lautet:\")\n",
    "display(Math(r'{f_1(x) = x^2}'))\n",
    "print(\"\")\n",
    "print(\"Die Ableitung von f1(x):\")\n",
    "ableitung(x, f1)"
   ]
  },
  {
   "cell_type": "code",
   "execution_count": 2,
   "metadata": {},
   "outputs": [
    {
     "name": "stdout",
     "output_type": "stream",
     "text": [
      "Die Funktion lautet:\n"
     ]
    },
    {
     "data": {
      "text/latex": [
       "$\\displaystyle {f_2(x) = x^4}$"
      ],
      "text/plain": [
       "<IPython.core.display.Math object>"
      ]
     },
     "metadata": {},
     "output_type": "display_data"
    },
    {
     "name": "stdout",
     "output_type": "stream",
     "text": [
      "\n",
      "Die Ableitung von f2(x):\n"
     ]
    },
    {
     "data": {
      "text/latex": [
       "$\\displaystyle 4 x^{3}$"
      ],
      "text/plain": [
       "4*x**3"
      ]
     },
     "execution_count": 2,
     "metadata": {},
     "output_type": "execute_result"
    }
   ],
   "source": [
    "f2 = x**4\n",
    "\n",
    "print(\"Die Funktion lautet:\")\n",
    "display(Math(r'{f_2(x) = x^4}'))\n",
    "print(\"\")\n",
    "print(\"Die Ableitung von f2(x):\")\n",
    "ableitung(x, f2)"
   ]
  },
  {
   "cell_type": "code",
   "execution_count": 3,
   "metadata": {},
   "outputs": [
    {
     "name": "stdout",
     "output_type": "stream",
     "text": [
      "Die Funktion lautet:\n"
     ]
    },
    {
     "data": {
      "text/latex": [
       "$\\displaystyle {f_3(x) = x^3}$"
      ],
      "text/plain": [
       "<IPython.core.display.Math object>"
      ]
     },
     "metadata": {},
     "output_type": "display_data"
    },
    {
     "name": "stdout",
     "output_type": "stream",
     "text": [
      "\n",
      "Die Ableitung von f3(x):\n"
     ]
    },
    {
     "data": {
      "text/latex": [
       "$\\displaystyle 3 x^{2}$"
      ],
      "text/plain": [
       "3*x**2"
      ]
     },
     "execution_count": 3,
     "metadata": {},
     "output_type": "execute_result"
    }
   ],
   "source": [
    "f3 = x**3\n",
    "\n",
    "print(\"Die Funktion lautet:\")\n",
    "display(Math(r'{f_3(x) = x^3}'))\n",
    "print(\"\")\n",
    "print(\"Die Ableitung von f3(x):\")\n",
    "ableitung(x, f3)"
   ]
  },
  {
   "cell_type": "code",
   "execution_count": 4,
   "metadata": {},
   "outputs": [
    {
     "name": "stdout",
     "output_type": "stream",
     "text": [
      "Die Funktion lautet:\n"
     ]
    },
    {
     "data": {
      "text/latex": [
       "$\\displaystyle {x^2}$"
      ],
      "text/plain": [
       "<IPython.core.display.Math object>"
      ]
     },
     "metadata": {},
     "output_type": "display_data"
    },
    {
     "name": "stdout",
     "output_type": "stream",
     "text": [
      "x1 = 0.005000\n",
      "x2 = 0.002500\n",
      "x3 = 0.001250\n",
      "x4 = 0.000625\n",
      "x5 = 0.000312\n"
     ]
    },
    {
     "data": {
      "image/png": "[encoded data removed]",
      "text/plain": [
       "<Figure size 360x216 with 1 Axes>"
      ]
     },
     "metadata": {
      "needs_background": "light"
     },
     "output_type": "display_data"
    },
    {
     "name": "stdout",
     "output_type": "stream",
     "text": [
      "Die Funktion lautet:\n"
     ]
    },
    {
     "data": {
      "text/latex": [
       "$\\displaystyle {x^4}$"
      ],
      "text/plain": [
       "<IPython.core.display.Math object>"
      ]
     },
     "metadata": {},
     "output_type": "display_data"
    },
    {
     "name": "stdout",
     "output_type": "stream",
     "text": [
      "x1 = 0.010000\n",
      "x2 = 0.010000\n",
      "x3 = 0.009999\n",
      "x4 = 0.009999\n",
      "x5 = 0.009999\n"
     ]
    },
    {
     "data": {
      "image/png": "[encoded data removed]",
      "text/plain": [
       "<Figure size 360x216 with 1 Axes>"
      ]
     },
     "metadata": {
      "needs_background": "light"
     },
     "output_type": "display_data"
    },
    {
     "name": "stdout",
     "output_type": "stream",
     "text": [
      "Die Funktion lautet:\n"
     ]
    },
    {
     "data": {
      "text/latex": [
       "$\\displaystyle {x^3}$"
      ],
      "text/plain": [
       "<IPython.core.display.Math object>"
      ]
     },
     "metadata": {},
     "output_type": "display_data"
    },
    {
     "name": "stdout",
     "output_type": "stream",
     "text": [
      "x1 = 0.009999\n",
      "x2 = 0.009998\n",
      "x3 = 0.009997\n",
      "x4 = 0.009996\n",
      "x5 = 0.009995\n"
     ]
    },
    {
     "data": {
      "image/png": "[encoded data removed]",
      "text/plain": [
       "<Figure size 360x216 with 1 Axes>"
      ]
     },
     "metadata": {
      "needs_background": "light"
     },
     "output_type": "display_data"
    }
   ],
   "source": [
    "import numpy as np\n",
    "from scipy.misc import derivative\n",
    "from IPython.display import display, Math\n",
    "import matplotlib.pyplot as plt\n",
    "from sympy import *\n",
    "%matplotlib inline\n",
    "\n",
    "\n",
    "def solve(f, x0):\n",
    "    \"\"\"\n",
    "    Die Funktion berechnet die Nullstellen mit dem Newton Verfahren\n",
    "    :param f: Die zu berechnenden Funktion\n",
    "    :param x0: Startwert für die Tangentengleichung\n",
    "    :return: Näherung mit dem Newton Verfahren\n",
    "    \"\"\"\n",
    "    steigung = derivative(f, x0)\n",
    "    return x0 - f(x0) / steigung\n",
    "\n",
    "\n",
    "def plot(f, xn):\n",
    "    \"\"\"\n",
    "    Die Funktion berechnet die Nullstellen und erstellt eine Grafik\n",
    "    :param f: Die zu berechnende Funktion\n",
    "    :param xn: Startwert für die Tangentengleichung\n",
    "    :return: Newton Verfahren in einer Grafik und Berechnung\n",
    "    \"\"\"\n",
    "    nullpunkt = []\n",
    "    x = nullpunkt\n",
    "\n",
    "    X = np.linspace(-5, 5)\n",
    "    Y = f(X)\n",
    "\n",
    "    for n in range(5):\n",
    "        xn = solve(f, xn)\n",
    "        print('x{} = {:.6f}'.format(n + 1, xn))\n",
    "        nullpunkt.append(xn)\n",
    "    \n",
    "    \n",
    "    plt.figure(figsize=(5, 3))    \n",
    "    plt.ylim(-3, 3)\n",
    "    plt.xlim(-3, 3)\n",
    "    plt.plot(X, Y, label=r'$f(x)$')\n",
    "    plt.grid()\n",
    "    plt.title(\"Newton Verfahren\")\n",
    "    plt.plot(x[-1], nullpunkt[-1], 'o', color='r', label='Nullpunkt')\n",
    "    plt.legend(loc=4)\n",
    "    plt.show()\n",
    "    \n",
    "if __name__ == '__main__':\n",
    "    f1 = lambda x: x**2\n",
    "    f2 = lambda x: x**4\n",
    "    f3 = lambda x: x**3\n",
    "\n",
    "    print(\"Die Funktion lautet:\")\n",
    "    display(Math(r'{x^2}'))\n",
    "    plot(f1, 0.01)\n",
    "    print(\"Die Funktion lautet:\")\n",
    "    display(Math(r'{x^4}'))\n",
    "    plot(f2, 0.01)\n",
    "    print(\"Die Funktion lautet:\")\n",
    "    display(Math(r'{x^3}'))\n",
    "    plot(f3, 0.01)"
   ]
  },
  {
   "cell_type": "code",
   "execution_count": 5,
   "metadata": {},
   "outputs": [
    {
     "name": "stdout",
     "output_type": "stream",
     "text": [
      "Näherungswert des Nullpunkts 4.712820287335984 mit der Anzahl Iterationen 3 zur Zeit 0.0\n"
     ]
    }
   ],
   "source": [
    "import time\n",
    "import numpy as np\n",
    "\n",
    "def newtonVergleich(f, x0, it):\n",
    "    \"\"\"\n",
    "    Die Funktion berechnet die Nullstellen, die Zeit und die Anzahl Iterationen\n",
    "    :param f: Die zu berechnende Funktion\n",
    "    :param x0: Startwert für die Tangentengleichung\n",
    "    :param it: Anzahl Iterationen\n",
    "    :return:\n",
    "    \"\"\"\n",
    "    start_time = time.time()\n",
    "    for i in range(it):\n",
    "        xn = solve(f, x0)\n",
    "        if abs(xn - x0) <= 0.01: break\n",
    "        x0 = xn\n",
    "    end_time = time.time() - start_time\n",
    "    return xn, i, end_time\n",
    "\n",
    "if __name__ == '__main__':\n",
    "    f1 = lambda x: np.cos(x)\n",
    "    n1, it, time = newtonVergleich(f1, 5, 1000)\n",
    "    print(\"Näherungswert des Nullpunkts {0} mit der Anzahl Iterationen {1} zur Zeit {2}\".format(n1, it, time))"
   ]
  },
  {
   "cell_type": "markdown",
   "metadata": {},
   "source": [
    "| Funktion | Startwert | Nullpunkt | Anzahl Iterationen | Zeit\n",
    "|:------------------:|:---------------:| :---------------:| :---------------:| :---------------:|\n",
    "| $${f_1 = x^3 + x - 1}$$ | 5 | 5.6457630666606455 | 3 | 0.001 |\n",
    "| $${f_1 = x^3 + x - 1}$$ | 2 | 0.6825990242971867 | 7 | 0.031 |\n",
    "| $${f_1 = x^3 + x - 1}$$ | 1 | 0.6826270663443585 | 5 | 0.000 |"
   ]
  },
  {
   "cell_type": "markdown",
   "metadata": {},
   "source": [
    "| Funktion | Startwert | Nullpunkt | Anzahl Iterationen | Zeit\n",
    "|:------------------:|:---------------:| :---------------:| :---------------:| :---------------:|\n",
    "| $${f_1 = x^3 - 5x^2-4x+2}$$ | 5 | 5.64576306666064550  | 5 | 0.0006 |\n",
    "| $${f_1 = x^3 - 5x^2-4x+2}$$ | 2 | 0.35421033125735270  | 3 | 0.0000 |\n",
    "| $${f_1 = x^3 - 5x^2-4x+2}$$ | 1 | 0.35427399891451017 | 4 | 0.0000 |"
   ]
  },
  {
   "cell_type": "markdown",
   "metadata": {},
   "source": [
    "| Funktion | Startwert | Nullpunkt | Anzahl Iterationen | Zeit\n",
    "|:------------------:|:---------------:| :---------------:| :---------------:| :---------------:|\n",
    "| $${f_1 = cos(x)}$$ | 5 | 4.7128202873359840 | 3 | 0.0000 |\n",
    "| $${f_1 = cos(x)}$$ | 2 | 1.5715852747513654  | 3 | 0.0010 |\n",
    "| $${f_1 = cos(x)}$$ | 1 | 1.5694046880904480 | 3 | 0.0010 |"
   ]
  },
  {
   "cell_type": "code",
   "execution_count": 6,
   "metadata": {},
   "outputs": [
    {
     "name": "stdout",
     "output_type": "stream",
     "text": [
      "x1 = -0.000019\n",
      "x2 = 0.000004\n",
      "x3 = -0.000001\n",
      "x4 = 0.000000\n",
      "x5 = -0.000000\n"
     ]
    },
    {
     "data": {
      "image/png": "[encoded data removed]",
      "text/plain": [
       "<Figure size 360x216 with 1 Axes>"
      ]
     },
     "metadata": {
      "needs_background": "light"
     },
     "output_type": "display_data"
    }
   ],
   "source": [
    "f4 = lambda x: np.sin(x)\n",
    "\n",
    "plot(f4, 0.0001)"
   ]
  }
 ],
 "metadata": {
  "ipub": {
   "author": "Ramona Koksa",
   "date": "17.05.2020",
   "subtitle": "Fernfachhochschule Schweiz",
   "title": "Newton Verfahren"
  },
  "kernelspec": {
   "display_name": "Python 3",
   "language": "python",
   "name": "python3"
  },
  "language_info": {
   "codemirror_mode": {
    "name": "ipython",
    "version": 3
   },
   "file_extension": ".py",
   "mimetype": "text/x-python",
   "name": "python",
   "nbconvert_exporter": "python",
   "pygments_lexer": "ipython3",
   "version": "3.7.6"
  }
 },
 "nbformat": 4,
 "nbformat_minor": 4
}
